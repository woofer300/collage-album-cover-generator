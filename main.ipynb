{
 "cells": [
  {
   "cell_type": "code",
   "execution_count": 23,
   "metadata": {},
   "outputs": [
    {
     "name": "stdout",
     "output_type": "stream",
     "text": [
      "^C\n"
     ]
    },
    {
     "name": "stdout",
     "output_type": "stream",
     "text": [
      "Requirement already satisfied: replicate in c:\\users\\micha\\documents\\albums\\collage-album-cover-generator\\.venv\\lib\\site-packages (0.31.0)\n",
      "Requirement already satisfied: requests in c:\\users\\micha\\documents\\albums\\collage-album-cover-generator\\.venv\\lib\\site-packages (2.32.3)\n",
      "Requirement already satisfied: aiohttp in c:\\users\\micha\\documents\\albums\\collage-album-cover-generator\\.venv\\lib\\site-packages (3.10.0)\n",
      "Requirement already satisfied: python-dotenv in c:\\users\\micha\\documents\\albums\\collage-album-cover-generator\\.venv\\lib\\site-packages (1.0.1)\n",
      "Requirement already satisfied: Pillow in c:\\users\\micha\\documents\\albums\\collage-album-cover-generator\\.venv\\lib\\site-packages (10.4.0)\n",
      "Requirement already satisfied: pyfs in c:\\users\\micha\\documents\\albums\\collage-album-cover-generator\\.venv\\lib\\site-packages (0.0.8)\n",
      "Requirement already satisfied: httpx<1,>=0.21.0 in c:\\users\\micha\\documents\\albums\\collage-album-cover-generator\\.venv\\lib\\site-packages (from replicate) (0.27.0)\n",
      "Requirement already satisfied: packaging in c:\\users\\micha\\documents\\albums\\collage-album-cover-generator\\.venv\\lib\\site-packages (from replicate) (24.1)\n",
      "Requirement already satisfied: pydantic>1.10.7 in c:\\users\\micha\\documents\\albums\\collage-album-cover-generator\\.venv\\lib\\site-packages (from replicate) (2.8.2)\n",
      "Requirement already satisfied: typing-extensions>=4.5.0 in c:\\users\\micha\\documents\\albums\\collage-album-cover-generator\\.venv\\lib\\site-packages (from replicate) (4.12.2)\n",
      "Requirement already satisfied: charset-normalizer<4,>=2 in c:\\users\\micha\\documents\\albums\\collage-album-cover-generator\\.venv\\lib\\site-packages (from requests) (3.3.2)\n",
      "Requirement already satisfied: idna<4,>=2.5 in c:\\users\\micha\\documents\\albums\\collage-album-cover-generator\\.venv\\lib\\site-packages (from requests) (3.7)\n",
      "Requirement already satisfied: urllib3<3,>=1.21.1 in c:\\users\\micha\\documents\\albums\\collage-album-cover-generator\\.venv\\lib\\site-packages (from requests) (2.2.2)\n",
      "Requirement already satisfied: certifi>=2017.4.17 in c:\\users\\micha\\documents\\albums\\collage-album-cover-generator\\.venv\\lib\\site-packages (from requests) (2024.7.4)\n",
      "Requirement already satisfied: aiohappyeyeballs>=2.3.0 in c:\\users\\micha\\documents\\albums\\collage-album-cover-generator\\.venv\\lib\\site-packages (from aiohttp) (2.3.4)\n",
      "Requirement already satisfied: aiosignal>=1.1.2 in c:\\users\\micha\\documents\\albums\\collage-album-cover-generator\\.venv\\lib\\site-packages (from aiohttp) (1.3.1)\n",
      "Requirement already satisfied: attrs>=17.3.0 in c:\\users\\micha\\documents\\albums\\collage-album-cover-generator\\.venv\\lib\\site-packages (from aiohttp) (24.1.0)\n",
      "Requirement already satisfied: frozenlist>=1.1.1 in c:\\users\\micha\\documents\\albums\\collage-album-cover-generator\\.venv\\lib\\site-packages (from aiohttp) (1.4.1)\n",
      "Requirement already satisfied: multidict<7.0,>=4.5 in c:\\users\\micha\\documents\\albums\\collage-album-cover-generator\\.venv\\lib\\site-packages (from aiohttp) (6.0.5)\n",
      "Requirement already satisfied: yarl<2.0,>=1.0 in c:\\users\\micha\\documents\\albums\\collage-album-cover-generator\\.venv\\lib\\site-packages (from aiohttp) (1.9.4)\n",
      "Requirement already satisfied: async-timeout<5.0,>=4.0 in c:\\users\\micha\\documents\\albums\\collage-album-cover-generator\\.venv\\lib\\site-packages (from aiohttp) (4.0.3)\n",
      "Requirement already satisfied: anyio in c:\\users\\micha\\documents\\albums\\collage-album-cover-generator\\.venv\\lib\\site-packages (from httpx<1,>=0.21.0->replicate) (4.4.0)\n",
      "Requirement already satisfied: httpcore==1.* in c:\\users\\micha\\documents\\albums\\collage-album-cover-generator\\.venv\\lib\\site-packages (from httpx<1,>=0.21.0->replicate) (1.0.5)\n",
      "Requirement already satisfied: sniffio in c:\\users\\micha\\documents\\albums\\collage-album-cover-generator\\.venv\\lib\\site-packages (from httpx<1,>=0.21.0->replicate) (1.3.1)\n",
      "Requirement already satisfied: h11<0.15,>=0.13 in c:\\users\\micha\\documents\\albums\\collage-album-cover-generator\\.venv\\lib\\site-packages (from httpcore==1.*->httpx<1,>=0.21.0->replicate) (0.14.0)\n",
      "Requirement already satisfied: annotated-types>=0.4.0 in c:\\users\\micha\\documents\\albums\\collage-album-cover-generator\\.venv\\lib\\site-packages (from pydantic>1.10.7->replicate) (0.7.0)\n",
      "Requirement already satisfied: pydantic-core==2.20.1 in c:\\users\\micha\\documents\\albums\\collage-album-cover-generator\\.venv\\lib\\site-packages (from pydantic>1.10.7->replicate) (2.20.1)\n",
      "Requirement already satisfied: exceptiongroup>=1.0.2 in c:\\users\\micha\\documents\\albums\\collage-album-cover-generator\\.venv\\lib\\site-packages (from anyio->httpx<1,>=0.21.0->replicate) (1.2.2)\n"
     ]
    }
   ],
   "source": [
    "! pip install replicate requests aiohttp python-dotenv Pillow pyfs"
   ]
  },
  {
   "cell_type": "code",
   "execution_count": null,
   "metadata": {},
   "outputs": [],
   "source": [
    "import asyncio\n",
    "from collections import defaultdict\n",
    "import json\n",
    "import aiohttp\n",
    "import requests\n",
    "import os\n",
    "from dotenv import load_dotenv\n",
    "\n",
    "load_dotenv()\n",
    "\n",
    "last_fm_api_base_url = \"http://ws.audioscrobbler.com/2.0/\"\n",
    "\n",
    "\n",
    "def get_top_200_last_fm_artists():\n",
    "    top_200_last_fm_artists = []\n",
    "    for page_number in range(1, 5):\n",
    "        fifty_top_artists = requests.get(last_fm_api_base_url + \"?method=chart.gettopartists&api_key=\" + os.environ[\"LAST_FM_API_KEY\"] + \"&format=json&page=\" + str(page_number)).json()\n",
    "        for artist in fifty_top_artists[\"artists\"][\"artist\"]:\n",
    "            top_200_last_fm_artists.append(artist[\"name\"])\n",
    "    return top_200_last_fm_artists\n",
    "\n",
    "\n",
    "\n",
    "def get_top_three_albums_for_all_artists(artists):\n",
    "    top_three_albums = defaultdict(list)\n",
    "    for artist in artists:\n",
    "        top_three_albums[artist] = [album[\"name\"] for album in requests.get(last_fm_api_base_url + \"?method=artist.gettopalbums&artist=\" + artist + \"&api_key=\" + os.environ[\"LAST_FM_API_KEY\"] + \"&format=json&limit=3\").json()[\"topalbums\"][\"album\"]]\n",
    "    return top_three_albums\n",
    "\n",
    "\n",
    "def generate_urls_to_get_top_three_albums(top_three_albums_for_artists):\n",
    "    urls = []\n",
    "    for artist, albums in top_three_albums_for_artists.items():\n",
    "        for album in albums:\n",
    "            urls.append(last_fm_api_base_url + \"?method=album.getinfo&api_key=\" + os.environ[\"LAST_FM_API_KEY\"] + \"&artist=\" + artist + \"&album=\" + album + \"&format=json\")\n",
    "    return urls\n",
    "\n",
    "\n",
    "urls = generate_urls_to_get_top_three_albums(get_top_three_albums_for_all_artists(get_top_200_last_fm_artists()))\n",
    "\n",
    "json.dump(urls, open(\"urls.json\", \"w+\"), indent = 4, ensure_ascii=False)"
   ]
  },
  {
   "cell_type": "code",
   "execution_count": null,
   "metadata": {},
   "outputs": [],
   "source": [
    "async def get_album_with_info(session, url):\n",
    "    async with session.get(url) as response:\n",
    "        return await response.json()\n",
    "\n",
    "\n",
    "async def get_albums_with_info(urls):\n",
    "    async with aiohttp.ClientSession() as session:\n",
    "        albums_with_info = [get_album_with_info(session, url) for url in urls]\n",
    "        return await asyncio.gather(*albums_with_info)\n",
    "\n",
    "\n"
   ]
  },
  {
   "cell_type": "code",
   "execution_count": 36,
   "metadata": {},
   "outputs": [
    {
     "name": "stdout",
     "output_type": "stream",
     "text": [
      "Mask 0 dimensions: (474, 474)\n",
      "Mask 1 dimensions: (474, 474)\n",
      "Mask 2 dimensions: (474, 474)\n",
      "Mask 3 dimensions: (474, 474)\n",
      "Mask 4 dimensions: (474, 474)\n",
      "hi https://th.bing.com/th/id/OIP.QT_ze_xwLmxbepdySxndMQHaHa?rs=1&pid=ImgDetMain\n",
      "[\"https://replicate.delivery/pbxt/2ie5Y5EPJTTofU2TKhM3va6CHRgiA96W3pOf5fczJKJh6i8MB/mask_0.png\", \"https://replicate.delivery/pbxt/RzRredSa2cQGHKeokkmH40u7nX9seRECPUzoO91O9EzSdReMB/mask_1.png\", \"https://replicate.delivery/pbxt/e6T8xv0rXnzpMiuot5mvjEUfw0tAlDIrS4qWA0cE5VeSdReMB/mask_2.png\", \"https://replicate.delivery/pbxt/m8P19MmSOa7uPdqiGPeAfxMzfXGP5uyDX3ZivoBOHQUTdReMB/mask_3.png\", \"https://replicate.delivery/pbxt/JBVBY8UiefnWzEMByVoIqu9zgJqyiOELNb5fcJjlUnoTdReMB/mask_4.png\"]\n"
     ]
    }
   ],
   "source": [
    "import json\n",
    "import replicate\n",
    "from PIL import Image, ImageChops\n",
    "import fs\n",
    "from io import BytesIO\n",
    "import os\n",
    "import requests\n",
    "\n",
    "os.environ[\"REPLICATE_API_TOKEN\"]\n",
    "input = {\n",
    "    \"image\": 'https://th.bing.com/th/id/OIP.QT_ze_xwLmxbepdySxndMQHaHa?rs=1&pid=ImgDetMain',\n",
    "    \"mask_limit\": 5,\n",
    "    \"mask_2_mask\": False, \n",
    "    \"crop_n_layers\": 0,\n",
    "    \"points_per_side\": 64,\n",
    "    \"stability_score_thresh\": 0.5,\n",
    "}\n",
    "\n",
    "output = replicate.run(\n",
    "    \"lucataco/segment-anything-2:be7cbde9fdf0eecdc8b20ffec9dd0d1cfeace0832d4d0b58a071d993182e1be0\",\n",
    "    input=input\n",
    ")\n",
    "\n",
    "input_response = requests.get(input.get(\"image\"))\n",
    "input_image = Image.open(BytesIO(input_response.content)).convert(\"RGBA\")\n",
    "\n",
    "for i, mask_url in enumerate(output):\n",
    "    output_response = requests.get(mask_url)\n",
    "    mask = Image.open(BytesIO(output_response.content)).convert(\"L\")  # Convert to grayscale\n",
    "\n",
    "    bbox = mask.getbbox()\n",
    "    if bbox:\n",
    "        non_transparent_area = mask.crop(bbox)\n",
    "        print(f\"Mask {i} non-transparent area dimensions: {non_transparent_area.size}\")\n",
    "    else:\n",
    "        print(f\"Mask {i} is fully transparent\")\n",
    "\n",
    "    # Create a binary mask\n",
    "    binary_mask = mask.point(lambda p: p > 128 and 255)\n",
    "\n",
    "    # Composite the images using the binary mask\n",
    "    composite_image = Image.composite(input_image, Image.new(\"RGBA\", input_image.size), binary_mask)\n",
    "\n",
    "    # Save or show the composite image\n",
    "    composite_image.show()\n",
    "    composite_image.save(f\"composite_image_{i}.png\")\n",
    "\n",
    "print('hi', input.get(\"image\"))\n",
    "print(json.dumps(output))"
   ]
  }
 ],
 "metadata": {
  "kernelspec": {
   "display_name": ".venv",
   "language": "python",
   "name": "python3"
  },
  "language_info": {
   "codemirror_mode": {
    "name": "ipython",
    "version": 3
   },
   "file_extension": ".py",
   "mimetype": "text/x-python",
   "name": "python",
   "nbconvert_exporter": "python",
   "pygments_lexer": "ipython3",
   "version": "3.10.0"
  }
 },
 "nbformat": 4,
 "nbformat_minor": 2
}
